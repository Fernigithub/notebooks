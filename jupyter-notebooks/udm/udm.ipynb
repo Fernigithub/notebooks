{
 "cells": [
  {
   "cell_type": "markdown",
   "metadata": {},
   "source": [
    "# Basics of Working with the Unusable Data Mask (UDM)\n",
    "\n",
    "The [Unusable Data Mask (UDM) File](https://www.planet.com/docs/spec-sheets/sat-imagery/#72-unusable-data-mask-file) is provided with many Planet products. It provides pixel-by-pixel information on quality issues that may affect the usability of each pixel, depending on the application.\n",
    "\n",
    "In this notebook, we demonstrate visualizing and converting the UDM to a binary mask, for use in masking the corresponding Planet scene."
   ]
  },
  {
   "cell_type": "code",
   "execution_count": null,
   "metadata": {},
   "outputs": [],
   "source": []
  }
 ],
 "metadata": {
  "kernelspec": {
   "display_name": "Python 3",
   "language": "python",
   "name": "python3"
  },
  "language_info": {
   "codemirror_mode": {
    "name": "ipython",
    "version": 3
   },
   "file_extension": ".py",
   "mimetype": "text/x-python",
   "name": "python",
   "nbconvert_exporter": "python",
   "pygments_lexer": "ipython3",
   "version": "3.6.4"
  }
 },
 "nbformat": 4,
 "nbformat_minor": 2
}
