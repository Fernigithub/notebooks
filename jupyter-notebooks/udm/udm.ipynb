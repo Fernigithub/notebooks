{
 "cells": [
  {
   "cell_type": "markdown",
   "metadata": {},
   "source": [
    "# Basics of Working with the Unusable Data Mask (UDM)\n",
    "\n",
    "The [Unusable Data Mask (UDM) File](https://www.planet.com/docs/spec-sheets/sat-imagery/#72-unusable-data-mask-file) is provided with many Planet products. It provides pixel-by-pixel information on quality issues that may affect the usability of each pixel, depending on the application.\n",
    "\n",
    "In this notebook, we demonstrate visualizing and converting the UDM to a binary mask, for use in masking the corresponding Planet scene.\n",
    "\n",
    "The UDM is an 8-bit single-band image. Pixel quality issues are bit-encoded. For example, if Bit 0 is set to 1 for a pixel in the UDM, then the pixel is in an area that was not imaged by the spacecraft, and the pixel is 'blackfill'. If all bits are set to zero, there is no quality issue with the pixel. \n",
    "\n",
    "The UDM is basically a classified image, where the binary representation provides the bit-encoded quality information. Therefore, we visualize the UDM as such.\n",
    "\n",
    "How we convert a UDM to a mask depends on which quality issues we are concerned about. If we require no quality issues, then we mask out all pixels that have a non-zero value (any bits set to 1). However, if we have our own cloud detection algorithm and do not want to exclude pixels that are suspected to be cloud covered, then we mask out all pixels that have bits other than Bit 1 (cloud-covered) set to 1."
   ]
  },
  {
   "cell_type": "markdown",
   "metadata": {},
   "source": [
    "## Install Dependencies and Set up Notebook"
   ]
  },
  {
   "cell_type": "code",
   "execution_count": 4,
   "metadata": {},
   "outputs": [],
   "source": [
    "import os\n",
    "import subprocess"
   ]
  },
  {
   "cell_type": "markdown",
   "metadata": {},
   "source": [
    "## Download UDM\n",
    "\n",
    "To download the udm, we use the planet CLI because it handles activating, waiting for activation, and downloading the file.\n",
    "\n",
    "We will save the udm in the `data` folder. This folder isn't tracked by git so the downloaded image file will not bloat our git repository."
   ]
  },
  {
   "cell_type": "code",
   "execution_count": 18,
   "metadata": {},
   "outputs": [],
   "source": [
    "# create the data folder if it doesn't exist\n",
    "data_folder = 'data'\n",
    "if not os.path.isdir(data_folder): os.mkdir(data_folder)"
   ]
  },
  {
   "cell_type": "code",
   "execution_count": 19,
   "metadata": {},
   "outputs": [
    {
     "name": "stdout",
     "output_type": "stream",
     "text": [
      "\u001b[2J\u001b[1;1H\u001b[2J\u001b[1;1H\u001b[30;47mactivating: 0            complete: 0              elapsed: 0                    \n",
      "paging: False            pending: 0                                             \u001b[39;49m\n",
      "\n",
      "\u001b[2J\u001b[1;1H\u001b[30;47mactivating: 1            complete: 0              downloaded: 0.00MB            \n",
      "downloading: 0           elapsed: 1               paging: True                  \n",
      "pending: 0                                                                      \u001b[39;49m\n",
      "\n",
      "\u001b[2J\u001b[1;1H\u001b[30;47mactivating: 0            complete: 0              downloaded: 0.00MB            \n",
      "downloading: 0           elapsed: 2               paging: False                 \n",
      "pending: 1                                                                      \u001b[39;49m\n",
      "\n",
      "\u001b[2J\u001b[1;1H\u001b[30;47mactivating: 0            complete: 0              downloaded: 0.00MB            \n",
      "downloading: 1           elapsed: 3               paging: False                 \n",
      "pending: 0                                                                      \u001b[39;49m\n",
      "\n",
      "\u001b[2J\u001b[1;1H\u001b[30;47mactivating: 0            complete: 0              downloaded: 0.00MB            \n",
      "downloading: 1           elapsed: 4               paging: False                 \n",
      "pending: 0                                                                      \u001b[39;49m\n",
      "\n",
      "\u001b[2J\u001b[1;1H\u001b[30;47mactivating: 0            complete: 0              downloaded: 0.00MB            \n",
      "downloading: 1           elapsed: 4               paging: False                 \n",
      "pending: 0                                                                      \u001b[39;49m\n",
      "\n"
     ]
    }
   ],
   "source": [
    "!planet data download --item-type PSOrthoTile \\\n",
    "                      --asset-type udm \\\n",
    "                      --string-in id 210879_1558814_2016-07-25_0e16 \\\n",
    "                      --dest data"
   ]
  },
  {
   "cell_type": "code",
   "execution_count": 24,
   "metadata": {},
   "outputs": [
    {
     "name": "stdout",
     "output_type": "stream",
     "text": [
      "data/210879_1558814_2016-07-25_0e16_BGRN_DN_udm.tif\n"
     ]
    }
   ],
   "source": [
    "# store the udm filename for processing and make sure the file exists\n",
    "udm_filename = os.path.join('data', '210879_1558814_2016-07-25_0e16_BGRN_DN_udm.tif')\n",
    "print(udm_filename)\n",
    "assert os.path.isfile(udm_filename)"
   ]
  },
  {
   "cell_type": "markdown",
   "metadata": {},
   "source": [
    "## Visualize UDM\n",
    "\n",
    "Since the UDM is bit-encoded, its scale is not linear. In fact, each unique value represents a unique quality classification. Therefore, we will treat it as a classified image. To visualize the UDM as a classified image, we will first define some utility functions for visualizing a classified band with matplotlib."
   ]
  },
  {
   "cell_type": "code",
   "execution_count": 17,
   "metadata": {},
   "outputs": [],
   "source": [
    "# Utility functions: visualizing a classified band\n",
    "\n",
    "def plot_classified_band(class_band, class_labels=None, cmap='rainbow',\n",
    "                         title='Class Labels', figdim=10):\n",
    "    fig = plt.figure(figsize=(figdim, figdim))\n",
    "    ax = fig.add_subplot(1, 1, 1)\n",
    "    imshow_class_band(ax, class_band, class_labels, cmap=cmap)\n",
    "    ax.set_title(title)\n",
    "    ax.set_axis_off()\n",
    "\n",
    "def imshow_class_band(ax, class_band, class_labels=None, cmap='rainbow'):\n",
    "    \"\"\"Show classified band with colormap normalization and color legend. Alters ax in place.\n",
    "    \n",
    "    possible cmaps ref: https://matplotlib.org/examples/color/colormaps_reference.html\n",
    "    \"\"\"\n",
    "    class_norm = _ClassNormalize(class_band)\n",
    "    im = ax.imshow(class_band, cmap=cmap, norm=class_norm)\n",
    "\n",
    "    try:\n",
    "        # add class label legend\n",
    "        # https://stackoverflow.com/questions/25482876\n",
    "        # /how-to-add-legend-to-imshow-in-matplotlib\n",
    "        color_mapping = class_norm.mapping\n",
    "        colors = [im.cmap(color_mapping[k]) for k in class_labels.keys()]\n",
    "        labels = class_labels.values()\n",
    "\n",
    "        # https://matplotlib.org/users/legend_guide.html\n",
    "        # tag: #creating-artists-specifically-for-adding-to-the-legend-aka-proxy-artists\n",
    "        patches = [mpatches.Patch(color=c, label=l) for c,l in zip(colors, labels)]\n",
    "\n",
    "        ax.legend(handles=patches, bbox_to_anchor=(1, 1), loc='upper right', borderaxespad=0.)\n",
    "    except AttributeError:\n",
    "        # class_labels not specified\n",
    "        pass\n",
    "\n",
    "# https://matplotlib.org/users/colormapnorms.html#custom-normalization-two-linear-ranges\n",
    "class _ClassNormalize(colors.Normalize):\n",
    "    \"\"\"Matplotlib colormap normalizer for a classified band.\"\"\"\n",
    "    def __init__(self, arry):\n",
    "        # get unique unmasked values\n",
    "        values = [v for v in np.unique(arry)\n",
    "                  if not isinstance(v, np.ma.core.MaskedConstant)]\n",
    "\n",
    "        color_ticks = np.array(range(len(values)), dtype=np.float) / (len(values) - 1)\n",
    "        self._mapping = dict((v, ct)\n",
    "                            for v, ct in zip(values, color_ticks))\n",
    "        \n",
    "        # Initialize base Normalize instance\n",
    "        vmin = 0\n",
    "        vmax = 1\n",
    "        clip = False\n",
    "        colors.Normalize.__init__(self, vmin, vmax, clip)\n",
    "    \n",
    "    def __call__(self, arry, clip=None):\n",
    "        # round array back to ints for logical comparison\n",
    "        arry = np.around(arry)\n",
    "        new_arry = arry.copy()\n",
    "        for k, v in self._mapping.items():\n",
    "            new_arry[arry==k] = v\n",
    "        return new_arry\n",
    "    \n",
    "    @property\n",
    "    def mapping(self):\n",
    "        return self._mapping"
   ]
  },
  {
   "cell_type": "code",
   "execution_count": 42,
   "metadata": {},
   "outputs": [],
   "source": [
    "import matplotlib\n",
    "import matplotlib.colors as colors\n",
    "import matplotlib.patches as mpatches\n",
    "import matplotlib.pyplot as plt\n",
    "\n",
    "\n",
    "%matplotlib inline"
   ]
  },
  {
   "cell_type": "code",
   "execution_count": 43,
   "metadata": {},
   "outputs": [],
   "source": [
    "from collections import OrderedDict\n",
    "\n",
    "import rasterio\n",
    "import numpy as np"
   ]
  },
  {
   "cell_type": "code",
   "execution_count": 46,
   "metadata": {},
   "outputs": [],
   "source": [
    "# Utility functions for loading a UDM image and identifying binary representation as class labels\n",
    "def load_udm(udm_filename):\n",
    "    '''Load single-band bit-encoded UDM as a 2D array.'''\n",
    "    with rasterio.open(udm_filename, 'r') as src:\n",
    "        udm = src.read()[0,...]\n",
    "    return udm\n",
    "\n",
    "def get_udm_labels(udm):\n",
    "    '''Get the binary representation of the UDM values'''\n",
    "    return OrderedDict((v, '{0:b}'.format(v)) for v in np.unique(udm))"
   ]
  },
  {
   "cell_type": "code",
   "execution_count": 47,
   "metadata": {},
   "outputs": [
    {
     "data": {
      "image/png": "[encoded data removed]",
      "text/plain": [
       "<Figure size 720x720 with 1 Axes>"
      ]
     },
     "metadata": {},
     "output_type": "display_data"
    }
   ],
   "source": [
    "udm = load_udm(udm_filename)\n",
    "udm_labels = get_udm_labels(udm)\n",
    "plot_classified_band(udm, class_labels=udm_labels, title='UDM Mask')"
   ]
  },
  {
   "cell_type": "code",
   "execution_count": null,
   "metadata": {},
   "outputs": [],
   "source": []
  }
 ],
 "metadata": {
  "kernelspec": {
   "display_name": "Python 3",
   "language": "python",
   "name": "python3"
  },
  "language_info": {
   "codemirror_mode": {
    "name": "ipython",
    "version": 3
   },
   "file_extension": ".py",
   "mimetype": "text/x-python",
   "name": "python",
   "nbconvert_exporter": "python",
   "pygments_lexer": "ipython3",
   "version": "3.6.4"
  }
 },
 "nbformat": 4,
 "nbformat_minor": 2
}
